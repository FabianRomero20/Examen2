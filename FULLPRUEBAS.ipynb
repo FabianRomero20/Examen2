{
 "cells": [
  {
   "cell_type": "code",
   "execution_count": 1,
   "id": "15d4e7fe",
   "metadata": {},
   "outputs": [
    {
     "data": {
      "text/html": [
       "<div>\n",
       "<style scoped>\n",
       "    .dataframe tbody tr th:only-of-type {\n",
       "        vertical-align: middle;\n",
       "    }\n",
       "\n",
       "    .dataframe tbody tr th {\n",
       "        vertical-align: top;\n",
       "    }\n",
       "\n",
       "    .dataframe thead th {\n",
       "        text-align: right;\n",
       "    }\n",
       "</style>\n",
       "<table border=\"1\" class=\"dataframe\">\n",
       "  <thead>\n",
       "    <tr style=\"text-align: right;\">\n",
       "      <th></th>\n",
       "      <th>Ubigeo</th>\n",
       "      <th>Departamento</th>\n",
       "      <th>Provincia</th>\n",
       "      <th>Distrito</th>\n",
       "      <th>Poblacion</th>\n",
       "      <th>Superficie</th>\n",
       "      <th>IDH2019</th>\n",
       "      <th>Educ_sec_comp2019_pct</th>\n",
       "      <th>NBI2017_pct</th>\n",
       "      <th>Viv_sin_serv_hig2017_pct</th>\n",
       "    </tr>\n",
       "  </thead>\n",
       "  <tbody>\n",
       "    <tr>\n",
       "      <th>0</th>\n",
       "      <td>010202</td>\n",
       "      <td>Amazonas</td>\n",
       "      <td>Bagua</td>\n",
       "      <td>ARAMANGO</td>\n",
       "      <td>10940</td>\n",
       "      <td>809.07</td>\n",
       "      <td>0.361182</td>\n",
       "      <td>37.545885</td>\n",
       "      <td>62.9</td>\n",
       "      <td>9.1</td>\n",
       "    </tr>\n",
       "    <tr>\n",
       "      <th>1</th>\n",
       "      <td>010201</td>\n",
       "      <td>Amazonas</td>\n",
       "      <td>Bagua</td>\n",
       "      <td>BAGUA</td>\n",
       "      <td>26091</td>\n",
       "      <td>150.99</td>\n",
       "      <td>0.584063</td>\n",
       "      <td>70.795501</td>\n",
       "      <td>25.4</td>\n",
       "      <td>0.7</td>\n",
       "    </tr>\n",
       "    <tr>\n",
       "      <th>2</th>\n",
       "      <td>010203</td>\n",
       "      <td>Amazonas</td>\n",
       "      <td>Bagua</td>\n",
       "      <td>COPALLIN</td>\n",
       "      <td>6319</td>\n",
       "      <td>99.05</td>\n",
       "      <td>0.467245</td>\n",
       "      <td>52.571361</td>\n",
       "      <td>45.4</td>\n",
       "      <td>2.1</td>\n",
       "    </tr>\n",
       "    <tr>\n",
       "      <th>3</th>\n",
       "      <td>010204</td>\n",
       "      <td>Amazonas</td>\n",
       "      <td>Bagua</td>\n",
       "      <td>EL PARCO</td>\n",
       "      <td>1492</td>\n",
       "      <td>18.48</td>\n",
       "      <td>0.489049</td>\n",
       "      <td>70.215409</td>\n",
       "      <td>59.9</td>\n",
       "      <td>1.5</td>\n",
       "    </tr>\n",
       "    <tr>\n",
       "      <th>4</th>\n",
       "      <td>010205</td>\n",
       "      <td>Amazonas</td>\n",
       "      <td>Bagua</td>\n",
       "      <td>IMAZA</td>\n",
       "      <td>24323</td>\n",
       "      <td>4430.84</td>\n",
       "      <td>0.298089</td>\n",
       "      <td>31.295719</td>\n",
       "      <td>88.4</td>\n",
       "      <td>11.7</td>\n",
       "    </tr>\n",
       "  </tbody>\n",
       "</table>\n",
       "</div>"
      ],
      "text/plain": [
       "   Ubigeo Departamento Provincia  Distrito  Poblacion  Superficie   IDH2019  \\\n",
       "0  010202     Amazonas     Bagua  ARAMANGO      10940      809.07  0.361182   \n",
       "1  010201     Amazonas     Bagua     BAGUA      26091      150.99  0.584063   \n",
       "2  010203     Amazonas     Bagua  COPALLIN       6319       99.05  0.467245   \n",
       "3  010204     Amazonas     Bagua  EL PARCO       1492       18.48  0.489049   \n",
       "4  010205     Amazonas     Bagua     IMAZA      24323     4430.84  0.298089   \n",
       "\n",
       "   Educ_sec_comp2019_pct  NBI2017_pct  Viv_sin_serv_hig2017_pct  \n",
       "0              37.545885         62.9                       9.1  \n",
       "1              70.795501         25.4                       0.7  \n",
       "2              52.571361         45.4                       2.1  \n",
       "3              70.215409         59.9                       1.5  \n",
       "4              31.295719         88.4                      11.7  "
      ]
     },
     "execution_count": 1,
     "metadata": {},
     "output_type": "execute_result"
    }
   ],
   "source": [
    "# data table\n",
    "import pandas as pd\n",
    "import os\n",
    "\n",
    "datadis=pd.read_excel(os.path.join('dataPruebas','dataPeru_indicadores.xlsx'),\n",
    "                     dtype={'Ubigeo': object})\n",
    "datadis.head()"
   ]
  },
  {
   "cell_type": "code",
   "execution_count": 3,
   "id": "7a99be41",
   "metadata": {},
   "outputs": [
    {
     "ename": "CRSError",
     "evalue": "Invalid projection: EPSG:4326: (Internal Proj Error: proj_create: SQLite error on SELECT name, type, coordinate_system_auth_name, coordinate_system_code, datum_auth_name, datum_code, area_of_use_auth_name, area_of_use_code, text_definition, deprecated FROM geodetic_crs WHERE auth_name = ? AND code = ?: no such column: area_of_use_auth_name)",
     "output_type": "error",
     "traceback": [
      "\u001b[1;31m---------------------------------------------------------------------------\u001b[0m",
      "\u001b[1;31mCRSError\u001b[0m                                  Traceback (most recent call last)",
      "Cell \u001b[1;32mIn[3], line 7\u001b[0m\n\u001b[0;32m      3\u001b[0m os\u001b[38;5;241m.\u001b[39menviron[\u001b[38;5;124m'\u001b[39m\u001b[38;5;124mUSE_PYGEOS\u001b[39m\u001b[38;5;124m'\u001b[39m] \u001b[38;5;241m=\u001b[39m \u001b[38;5;124m'\u001b[39m\u001b[38;5;124m0\u001b[39m\u001b[38;5;124m'\u001b[39m\n\u001b[0;32m      5\u001b[0m \u001b[38;5;28;01mimport\u001b[39;00m \u001b[38;5;21;01mgeopandas\u001b[39;00m \u001b[38;5;28;01mas\u001b[39;00m \u001b[38;5;21;01mgpd\u001b[39;00m\n\u001b[1;32m----> 7\u001b[0m datadismap\u001b[38;5;241m=\u001b[39m\u001b[43mgpd\u001b[49m\u001b[38;5;241;43m.\u001b[39;49m\u001b[43mread_file\u001b[49m\u001b[43m(\u001b[49m\u001b[43mos\u001b[49m\u001b[38;5;241;43m.\u001b[39;49m\u001b[43mpath\u001b[49m\u001b[38;5;241;43m.\u001b[39;49m\u001b[43mjoin\u001b[49m\u001b[43m(\u001b[49m\u001b[38;5;124;43m'\u001b[39;49m\u001b[38;5;124;43mmapsPruebas\u001b[39;49m\u001b[38;5;124;43m'\u001b[39;49m\u001b[43m,\u001b[49m\u001b[38;5;124;43m'\u001b[39;49m\u001b[38;5;124;43mDistritosMap.zip\u001b[39;49m\u001b[38;5;124;43m'\u001b[39;49m\u001b[43m)\u001b[49m\u001b[43m)\u001b[49m\n\u001b[0;32m      9\u001b[0m datadismap\u001b[38;5;241m.\u001b[39mhead()\n",
      "File \u001b[1;32m~\\anaconda3\\lib\\site-packages\\geopandas\\io\\file.py:263\u001b[0m, in \u001b[0;36m_read_file\u001b[1;34m(filename, bbox, mask, rows, engine, **kwargs)\u001b[0m\n\u001b[0;32m    259\u001b[0m     \u001b[38;5;28;01mreturn\u001b[39;00m _read_file_fiona(\n\u001b[0;32m    260\u001b[0m         path_or_bytes, from_bytes, bbox\u001b[38;5;241m=\u001b[39mbbox, mask\u001b[38;5;241m=\u001b[39mmask, rows\u001b[38;5;241m=\u001b[39mrows, \u001b[38;5;241m*\u001b[39m\u001b[38;5;241m*\u001b[39mkwargs\n\u001b[0;32m    261\u001b[0m     )\n\u001b[0;32m    262\u001b[0m \u001b[38;5;28;01melif\u001b[39;00m engine \u001b[38;5;241m==\u001b[39m \u001b[38;5;124m\"\u001b[39m\u001b[38;5;124mpyogrio\u001b[39m\u001b[38;5;124m\"\u001b[39m:\n\u001b[1;32m--> 263\u001b[0m     \u001b[38;5;28;01mreturn\u001b[39;00m _read_file_pyogrio(\n\u001b[0;32m    264\u001b[0m         path_or_bytes, bbox\u001b[38;5;241m=\u001b[39mbbox, mask\u001b[38;5;241m=\u001b[39mmask, rows\u001b[38;5;241m=\u001b[39mrows, \u001b[38;5;241m*\u001b[39m\u001b[38;5;241m*\u001b[39mkwargs\n\u001b[0;32m    265\u001b[0m     )\n\u001b[0;32m    266\u001b[0m \u001b[38;5;28;01melse\u001b[39;00m:\n\u001b[0;32m    267\u001b[0m     \u001b[38;5;28;01mraise\u001b[39;00m \u001b[38;5;167;01mValueError\u001b[39;00m(\u001b[38;5;124mf\u001b[39m\u001b[38;5;124m\"\u001b[39m\u001b[38;5;124munknown engine \u001b[39m\u001b[38;5;124m'\u001b[39m\u001b[38;5;132;01m{\u001b[39;00mengine\u001b[38;5;132;01m}\u001b[39;00m\u001b[38;5;124m'\u001b[39m\u001b[38;5;124m\"\u001b[39m)\n",
      "File \u001b[1;32m~\\anaconda3\\lib\\site-packages\\geopandas\\io\\file.py:408\u001b[0m, in \u001b[0;36m_read_file_pyogrio\u001b[1;34m(path_or_bytes, bbox, mask, rows, **kwargs)\u001b[0m\n\u001b[0;32m    405\u001b[0m     kwargs[\u001b[38;5;124m\"\u001b[39m\u001b[38;5;124mread_geometry\u001b[39m\u001b[38;5;124m\"\u001b[39m] \u001b[38;5;241m=\u001b[39m \u001b[38;5;28;01mFalse\u001b[39;00m\n\u001b[0;32m    407\u001b[0m \u001b[38;5;66;03m# TODO: if bbox is not None, check its CRS vs the CRS of the file\u001b[39;00m\n\u001b[1;32m--> 408\u001b[0m \u001b[38;5;28;01mreturn\u001b[39;00m pyogrio\u001b[38;5;241m.\u001b[39mread_dataframe(path_or_bytes, bbox\u001b[38;5;241m=\u001b[39mbbox, \u001b[38;5;241m*\u001b[39m\u001b[38;5;241m*\u001b[39mkwargs)\n",
      "File \u001b[1;32m~\\anaconda3\\lib\\site-packages\\pyogrio\\geopandas.py:191\u001b[0m, in \u001b[0;36mread_dataframe\u001b[1;34m(path_or_buffer, layer, encoding, columns, read_geometry, force_2d, skip_features, max_features, where, bbox, fids, sql, sql_dialect, fid_as_index, use_arrow, **kwargs)\u001b[0m\n\u001b[0;32m    188\u001b[0m \u001b[38;5;28;01mif\u001b[39;00m geometry \u001b[38;5;129;01mis\u001b[39;00m \u001b[38;5;28;01mNone\u001b[39;00m \u001b[38;5;129;01mor\u001b[39;00m \u001b[38;5;129;01mnot\u001b[39;00m read_geometry:\n\u001b[0;32m    189\u001b[0m     \u001b[38;5;28;01mreturn\u001b[39;00m df\n\u001b[1;32m--> 191\u001b[0m geometry \u001b[38;5;241m=\u001b[39m \u001b[43mfrom_wkb\u001b[49m\u001b[43m(\u001b[49m\u001b[43mgeometry\u001b[49m\u001b[43m,\u001b[49m\u001b[43m \u001b[49m\u001b[43mcrs\u001b[49m\u001b[38;5;241;43m=\u001b[39;49m\u001b[43mmeta\u001b[49m\u001b[43m[\u001b[49m\u001b[38;5;124;43m\"\u001b[39;49m\u001b[38;5;124;43mcrs\u001b[39;49m\u001b[38;5;124;43m\"\u001b[39;49m\u001b[43m]\u001b[49m\u001b[43m)\u001b[49m\n\u001b[0;32m    193\u001b[0m \u001b[38;5;28;01mreturn\u001b[39;00m gp\u001b[38;5;241m.\u001b[39mGeoDataFrame(df, geometry\u001b[38;5;241m=\u001b[39mgeometry)\n",
      "File \u001b[1;32m~\\anaconda3\\lib\\site-packages\\geopandas\\array.py:180\u001b[0m, in \u001b[0;36mfrom_wkb\u001b[1;34m(data, crs)\u001b[0m\n\u001b[0;32m    166\u001b[0m \u001b[38;5;28;01mdef\u001b[39;00m \u001b[38;5;21mfrom_wkb\u001b[39m(data, crs\u001b[38;5;241m=\u001b[39m\u001b[38;5;28;01mNone\u001b[39;00m):\n\u001b[0;32m    167\u001b[0m \u001b[38;5;250m    \u001b[39m\u001b[38;5;124;03m\"\"\"\u001b[39;00m\n\u001b[0;32m    168\u001b[0m \u001b[38;5;124;03m    Convert a list or array of WKB objects to a GeometryArray.\u001b[39;00m\n\u001b[0;32m    169\u001b[0m \n\u001b[1;32m   (...)\u001b[0m\n\u001b[0;32m    178\u001b[0m \n\u001b[0;32m    179\u001b[0m \u001b[38;5;124;03m    \"\"\"\u001b[39;00m\n\u001b[1;32m--> 180\u001b[0m     \u001b[38;5;28;01mreturn\u001b[39;00m \u001b[43mGeometryArray\u001b[49m\u001b[43m(\u001b[49m\u001b[43mvectorized\u001b[49m\u001b[38;5;241;43m.\u001b[39;49m\u001b[43mfrom_wkb\u001b[49m\u001b[43m(\u001b[49m\u001b[43mdata\u001b[49m\u001b[43m)\u001b[49m\u001b[43m,\u001b[49m\u001b[43m \u001b[49m\u001b[43mcrs\u001b[49m\u001b[38;5;241;43m=\u001b[39;49m\u001b[43mcrs\u001b[49m\u001b[43m)\u001b[49m\n",
      "File \u001b[1;32m~\\anaconda3\\lib\\site-packages\\geopandas\\array.py:289\u001b[0m, in \u001b[0;36mGeometryArray.__init__\u001b[1;34m(self, data, crs)\u001b[0m\n\u001b[0;32m    286\u001b[0m \u001b[38;5;28mself\u001b[39m\u001b[38;5;241m.\u001b[39mdata \u001b[38;5;241m=\u001b[39m data\n\u001b[0;32m    288\u001b[0m \u001b[38;5;28mself\u001b[39m\u001b[38;5;241m.\u001b[39m_crs \u001b[38;5;241m=\u001b[39m \u001b[38;5;28;01mNone\u001b[39;00m\n\u001b[1;32m--> 289\u001b[0m \u001b[38;5;28mself\u001b[39m\u001b[38;5;241m.\u001b[39mcrs \u001b[38;5;241m=\u001b[39m crs\n\u001b[0;32m    290\u001b[0m \u001b[38;5;28mself\u001b[39m\u001b[38;5;241m.\u001b[39m_sindex \u001b[38;5;241m=\u001b[39m \u001b[38;5;28;01mNone\u001b[39;00m\n",
      "File \u001b[1;32m~\\anaconda3\\lib\\site-packages\\geopandas\\array.py:339\u001b[0m, in \u001b[0;36mGeometryArray.crs\u001b[1;34m(self, value)\u001b[0m\n\u001b[0;32m    336\u001b[0m \u001b[38;5;129m@crs\u001b[39m\u001b[38;5;241m.\u001b[39msetter\n\u001b[0;32m    337\u001b[0m \u001b[38;5;28;01mdef\u001b[39;00m \u001b[38;5;21mcrs\u001b[39m(\u001b[38;5;28mself\u001b[39m, value):\n\u001b[0;32m    338\u001b[0m \u001b[38;5;250m    \u001b[39m\u001b[38;5;124;03m\"\"\"Sets the value of the crs\"\"\"\u001b[39;00m\n\u001b[1;32m--> 339\u001b[0m     \u001b[38;5;28mself\u001b[39m\u001b[38;5;241m.\u001b[39m_crs \u001b[38;5;241m=\u001b[39m \u001b[38;5;28;01mNone\u001b[39;00m \u001b[38;5;28;01mif\u001b[39;00m \u001b[38;5;129;01mnot\u001b[39;00m value \u001b[38;5;28;01melse\u001b[39;00m \u001b[43mCRS\u001b[49m\u001b[38;5;241;43m.\u001b[39;49m\u001b[43mfrom_user_input\u001b[49m\u001b[43m(\u001b[49m\u001b[43mvalue\u001b[49m\u001b[43m)\u001b[49m\n",
      "File \u001b[1;32m~\\anaconda3\\lib\\site-packages\\pyproj\\crs\\crs.py:440\u001b[0m, in \u001b[0;36mCRS.from_user_input\u001b[1;34m(value, **kwargs)\u001b[0m\n\u001b[0;32m    438\u001b[0m \u001b[38;5;28;01mif\u001b[39;00m \u001b[38;5;28misinstance\u001b[39m(value, CRS):\n\u001b[0;32m    439\u001b[0m     \u001b[38;5;28;01mreturn\u001b[39;00m value\n\u001b[1;32m--> 440\u001b[0m \u001b[38;5;28;01mreturn\u001b[39;00m CRS(value, \u001b[38;5;241m*\u001b[39m\u001b[38;5;241m*\u001b[39mkwargs)\n",
      "File \u001b[1;32m~\\anaconda3\\lib\\site-packages\\pyproj\\crs\\crs.py:296\u001b[0m, in \u001b[0;36mCRS.__init__\u001b[1;34m(self, projparams, **kwargs)\u001b[0m\n\u001b[0;32m    293\u001b[0m     projkwargs \u001b[38;5;241m=\u001b[39m _prepare_from_dict(kwargs, allow_json\u001b[38;5;241m=\u001b[39m\u001b[38;5;28;01mFalse\u001b[39;00m)\n\u001b[0;32m    294\u001b[0m     projstring \u001b[38;5;241m=\u001b[39m _prepare_from_string(\u001b[38;5;124m\"\u001b[39m\u001b[38;5;124m \u001b[39m\u001b[38;5;124m\"\u001b[39m\u001b[38;5;241m.\u001b[39mjoin((projstring, projkwargs)))\n\u001b[1;32m--> 296\u001b[0m \u001b[38;5;28;43msuper\u001b[39;49m\u001b[43m(\u001b[49m\u001b[43m)\u001b[49m\u001b[38;5;241;43m.\u001b[39;49m\u001b[38;5;21;43m__init__\u001b[39;49m\u001b[43m(\u001b[49m\u001b[43mprojstring\u001b[49m\u001b[43m)\u001b[49m\n",
      "File \u001b[1;32m~\\anaconda3\\lib\\site-packages\\pyproj\\_crs.pyx:2338\u001b[0m, in \u001b[0;36mpyproj._crs._CRS.__init__\u001b[1;34m()\u001b[0m\n",
      "\u001b[1;31mCRSError\u001b[0m: Invalid projection: EPSG:4326: (Internal Proj Error: proj_create: SQLite error on SELECT name, type, coordinate_system_auth_name, coordinate_system_code, datum_auth_name, datum_code, area_of_use_auth_name, area_of_use_code, text_definition, deprecated FROM geodetic_crs WHERE auth_name = ? AND code = ?: no such column: area_of_use_auth_name)"
     ]
    }
   ],
   "source": [
    "# map\n",
    "\n",
    "os.environ['USE_PYGEOS'] = '0'\n",
    "\n",
    "import geopandas as gpd\n",
    "\n",
    "datadismap=gpd.read_file(os.path.join('mapsPruebas','DistritosMap.zip'))\n",
    "\n",
    "datadismap.head()"
   ]
  },
  {
   "cell_type": "code",
   "execution_count": null,
   "id": "cc45a10a",
   "metadata": {},
   "outputs": [],
   "source": [
    "capitalizeColumns=lambda x: x.str.upper().str.strip()\n",
    "datadis[['Provincia','Distrito']]=datadis[['Provincia','Distrito']].apply(capitalizeColumns)\n",
    "datadismap[['PROVINCIA','DISTRITO']]=datadismap[['PROVINCIA','DISTRITO']].apply(capitalizeColumns)"
   ]
  },
  {
   "cell_type": "code",
   "execution_count": null,
   "id": "5eae2390",
   "metadata": {},
   "outputs": [],
   "source": [
    "import unidecode\n",
    "\n",
    "\n",
    "byePunctuation=lambda x: unidecode.unidecode(x)\n",
    "datadis[['Provincia','Distrito']]=datadis[['Provincia','Distrito']].applymap(byePunctuation)\n",
    "datadismap[['PROVINCIA','DISTRITO']]=datadismap[['PROVINCIA','DISTRITO']].applymap(byePunctuation)"
   ]
  },
  {
   "cell_type": "code",
   "execution_count": null,
   "id": "c0f72cc0",
   "metadata": {},
   "outputs": [],
   "source": [
    "len(datadis.Distrito),len(datadismap.DISTRITO)"
   ]
  },
  {
   "cell_type": "code",
   "execution_count": null,
   "id": "364c57fe",
   "metadata": {},
   "outputs": [],
   "source": [
    "datadis.Distrito.duplicated().sum(),datadismap.DISTRITO.duplicated().sum()"
   ]
  },
  {
   "cell_type": "code",
   "execution_count": null,
   "id": "3d3172a0",
   "metadata": {},
   "outputs": [],
   "source": [
    "# concatenating\n",
    "datadis['provDist']=[\"+\".join(pd) for pd in zip (datadis.Provincia,datadis.Distrito)]\n",
    "datadismap['provDist']=[\"+\".join(pd) for pd in zip (datadismap.PROVINCIA,datadismap.DISTRITO)]"
   ]
  },
  {
   "cell_type": "code",
   "execution_count": null,
   "id": "ea20a182",
   "metadata": {},
   "outputs": [],
   "source": [
    "# the new column looks like this:\n",
    "datadis['provDist'].head()"
   ]
  },
  {
   "cell_type": "code",
   "execution_count": null,
   "id": "115fd03a",
   "metadata": {},
   "outputs": [],
   "source": [
    "# replacing dashes and multiple spaces by a simple space\n",
    "datadis.provDist=datadis.provDist.str.replace(\"\\-|\\_|\\s+\",\" \",regex=True)\n",
    "datadismap.provDist=datadismap.provDist.str.replace(\"\\-|\\_|\\s+\",\" \",regex=True)"
   ]
  },
  {
   "cell_type": "code",
   "execution_count": null,
   "id": "1234f5bc",
   "metadata": {},
   "outputs": [],
   "source": [
    "datadis"
   ]
  },
  {
   "cell_type": "code",
   "execution_count": null,
   "id": "ebe9f423",
   "metadata": {},
   "outputs": [],
   "source": [
    "datadismap"
   ]
  },
  {
   "cell_type": "code",
   "execution_count": null,
   "id": "258171d0",
   "metadata": {},
   "outputs": [],
   "source": [
    "#MERGING"
   ]
  },
  {
   "cell_type": "code",
   "execution_count": null,
   "id": "a401eb8f",
   "metadata": {},
   "outputs": [],
   "source": [
    "nomatch_df=set(datadis.provDist)- set(datadismap.provDist)\n",
    "nomatch_gdf=set(datadismap.provDist)-set(datadis.provDist) "
   ]
  },
  {
   "cell_type": "code",
   "execution_count": null,
   "id": "9d6c844b",
   "metadata": {},
   "outputs": [],
   "source": [
    "len(nomatch_df), len(nomatch_gdf)"
   ]
  },
  {
   "cell_type": "code",
   "execution_count": null,
   "id": "885975ab",
   "metadata": {},
   "outputs": [],
   "source": [
    "# pick the closest match from nomatch_gdf for a value in nomatch_df\n",
    "from thefuzz import process\n",
    "[(dis,process.extractOne(dis,nomatch_gdf)) for dis in sorted(nomatch_df)]"
   ]
  },
  {
   "cell_type": "code",
   "execution_count": null,
   "id": "7924bfcd",
   "metadata": {},
   "outputs": [],
   "source": [
    "# is this OK?\n",
    "{dis:process.extractOne(dis,nomatch_gdf)[0] for dis in sorted(nomatch_df)}"
   ]
  },
  {
   "cell_type": "code",
   "execution_count": null,
   "id": "72ee2057",
   "metadata": {},
   "outputs": [],
   "source": [
    "# then:\n",
    "changesDis_df={dis:process.extractOne(dis,nomatch_gdf)[0] for dis in sorted(nomatch_df)}"
   ]
  },
  {
   "cell_type": "code",
   "execution_count": null,
   "id": "ebffa8ca",
   "metadata": {},
   "outputs": [],
   "source": [
    "datadis.provDist.replace(changesDis_df,inplace=True)"
   ]
  },
  {
   "cell_type": "code",
   "execution_count": null,
   "id": "a201c18e",
   "metadata": {},
   "outputs": [],
   "source": [
    "datadismap=datadismap.merge(datadis, on='provDist')"
   ]
  },
  {
   "cell_type": "code",
   "execution_count": null,
   "id": "0219df0c",
   "metadata": {},
   "outputs": [],
   "source": [
    "# check\n",
    "datadismap.info()"
   ]
  },
  {
   "cell_type": "code",
   "execution_count": null,
   "id": "75e89224",
   "metadata": {},
   "outputs": [],
   "source": [
    "bye=['Departamento', 'Provincia', 'Distrito','INSTITUCIO']\n",
    "datadismap.drop(columns=bye,inplace=True)\n",
    "\n",
    "# keeping\n",
    "datadismap.head()"
   ]
  },
  {
   "cell_type": "code",
   "execution_count": null,
   "id": "16fdc272",
   "metadata": {},
   "outputs": [],
   "source": []
  }
 ],
 "metadata": {
  "kernelspec": {
   "display_name": "Python 3 (ipykernel)",
   "language": "python",
   "name": "python3"
  },
  "language_info": {
   "codemirror_mode": {
    "name": "ipython",
    "version": 3
   },
   "file_extension": ".py",
   "mimetype": "text/x-python",
   "name": "python",
   "nbconvert_exporter": "python",
   "pygments_lexer": "ipython3",
   "version": "3.9.13"
  }
 },
 "nbformat": 4,
 "nbformat_minor": 5
}
