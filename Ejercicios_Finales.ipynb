{
 "cells": [
  {
   "cell_type": "code",
   "execution_count": 1,
   "id": "321f2a06",
   "metadata": {},
   "outputs": [
    {
     "data": {
      "text/html": [
       "<div>\n",
       "<style scoped>\n",
       "    .dataframe tbody tr th:only-of-type {\n",
       "        vertical-align: middle;\n",
       "    }\n",
       "\n",
       "    .dataframe tbody tr th {\n",
       "        vertical-align: top;\n",
       "    }\n",
       "\n",
       "    .dataframe thead th {\n",
       "        text-align: right;\n",
       "    }\n",
       "</style>\n",
       "<table border=\"1\" class=\"dataframe\">\n",
       "  <thead>\n",
       "    <tr style=\"text-align: right;\">\n",
       "      <th></th>\n",
       "      <th>DEPARTAMENTO</th>\n",
       "      <th>PROVINCIA</th>\n",
       "      <th>TOTAL_VIVIENDAS</th>\n",
       "      <th>TAMAÑO_PROMEDIO_DEL_HOGAR</th>\n",
       "      <th>PORCENTAJE_ DE_VIVIENDAS_CON_ENERGIA_ELECTRICA</th>\n",
       "      <th>PERSONAS_CON_DIFICULTADES_PERMANENTES</th>\n",
       "    </tr>\n",
       "  </thead>\n",
       "  <tbody>\n",
       "    <tr>\n",
       "      <th>0</th>\n",
       "      <td>CHUQUISACA</td>\n",
       "      <td>Oropeza</td>\n",
       "      <td>77376</td>\n",
       "      <td>3.62</td>\n",
       "      <td>87.08</td>\n",
       "      <td>10829</td>\n",
       "    </tr>\n",
       "    <tr>\n",
       "      <th>1</th>\n",
       "      <td>CHUQUISACA</td>\n",
       "      <td>Azurduy</td>\n",
       "      <td>5956</td>\n",
       "      <td>4.11</td>\n",
       "      <td>27.50</td>\n",
       "      <td>983</td>\n",
       "    </tr>\n",
       "    <tr>\n",
       "      <th>2</th>\n",
       "      <td>CHUQUISACA</td>\n",
       "      <td>Zudáñez</td>\n",
       "      <td>9116</td>\n",
       "      <td>4.21</td>\n",
       "      <td>48.96</td>\n",
       "      <td>1156</td>\n",
       "    </tr>\n",
       "    <tr>\n",
       "      <th>3</th>\n",
       "      <td>CHUQUISACA</td>\n",
       "      <td>Tomina</td>\n",
       "      <td>9217</td>\n",
       "      <td>3.77</td>\n",
       "      <td>46.23</td>\n",
       "      <td>1640</td>\n",
       "    </tr>\n",
       "    <tr>\n",
       "      <th>4</th>\n",
       "      <td>CHUQUISACA</td>\n",
       "      <td>Hernando Siles</td>\n",
       "      <td>8158</td>\n",
       "      <td>3.84</td>\n",
       "      <td>63.67</td>\n",
       "      <td>1554</td>\n",
       "    </tr>\n",
       "  </tbody>\n",
       "</table>\n",
       "</div>"
      ],
      "text/plain": [
       "  DEPARTAMENTO       PROVINCIA  TOTAL_VIVIENDAS  TAMAÑO_PROMEDIO_DEL_HOGAR  \\\n",
       "0   CHUQUISACA         Oropeza            77376                       3.62   \n",
       "1   CHUQUISACA         Azurduy             5956                       4.11   \n",
       "2   CHUQUISACA         Zudáñez             9116                       4.21   \n",
       "3   CHUQUISACA          Tomina             9217                       3.77   \n",
       "4   CHUQUISACA  Hernando Siles             8158                       3.84   \n",
       "\n",
       "   PORCENTAJE_ DE_VIVIENDAS_CON_ENERGIA_ELECTRICA  \\\n",
       "0                                           87.08   \n",
       "1                                           27.50   \n",
       "2                                           48.96   \n",
       "3                                           46.23   \n",
       "4                                           63.67   \n",
       "\n",
       "   PERSONAS_CON_DIFICULTADES_PERMANENTES  \n",
       "0                                  10829  \n",
       "1                                    983  \n",
       "2                                   1156  \n",
       "3                                   1640  \n",
       "4                                   1554  "
      ]
     },
     "execution_count": 1,
     "metadata": {},
     "output_type": "execute_result"
    }
   ],
   "source": [
    "# Tabla de datos\n",
    "\n",
    "import pandas as pd\n",
    "import os\n",
    "\n",
    "dataBol=pd.read_excel(os.path.join('data','dataBolivia_indicadores.xlsx'))\n",
    "dataBol.head()"
   ]
  },
  {
   "cell_type": "code",
   "execution_count": 3,
   "id": "af188532",
   "metadata": {},
   "outputs": [
    {
     "ename": "CRSError",
     "evalue": "Invalid projection: EPSG:4326: (Internal Proj Error: proj_create: SQLite error on SELECT name, type, coordinate_system_auth_name, coordinate_system_code, datum_auth_name, datum_code, area_of_use_auth_name, area_of_use_code, text_definition, deprecated FROM geodetic_crs WHERE auth_name = ? AND code = ?: no such column: area_of_use_auth_name)",
     "output_type": "error",
     "traceback": [
      "\u001b[1;31m---------------------------------------------------------------------------\u001b[0m",
      "\u001b[1;31mCRSError\u001b[0m                                  Traceback (most recent call last)",
      "Cell \u001b[1;32mIn[3], line 7\u001b[0m\n\u001b[0;32m      3\u001b[0m os\u001b[38;5;241m.\u001b[39menviron[\u001b[38;5;124m'\u001b[39m\u001b[38;5;124mUSE_PYGEOS\u001b[39m\u001b[38;5;124m'\u001b[39m] \u001b[38;5;241m=\u001b[39m \u001b[38;5;124m'\u001b[39m\u001b[38;5;124m0\u001b[39m\u001b[38;5;124m'\u001b[39m\n\u001b[0;32m      5\u001b[0m \u001b[38;5;28;01mimport\u001b[39;00m \u001b[38;5;21;01mgeopandas\u001b[39;00m \u001b[38;5;28;01mas\u001b[39;00m \u001b[38;5;21;01mgpd\u001b[39;00m\n\u001b[1;32m----> 7\u001b[0m dataBolmap\u001b[38;5;241m=\u001b[39m\u001b[43mgpd\u001b[49m\u001b[38;5;241;43m.\u001b[39;49m\u001b[43mread_file\u001b[49m\u001b[43m(\u001b[49m\u001b[43mos\u001b[49m\u001b[38;5;241;43m.\u001b[39;49m\u001b[43mpath\u001b[49m\u001b[38;5;241;43m.\u001b[39;49m\u001b[43mjoin\u001b[49m\u001b[43m(\u001b[49m\u001b[38;5;124;43m'\u001b[39;49m\u001b[38;5;124;43mmaps\u001b[39;49m\u001b[38;5;124;43m'\u001b[39;49m\u001b[43m,\u001b[49m\u001b[38;5;124;43m'\u001b[39;49m\u001b[38;5;124;43mProvincias.zip\u001b[39;49m\u001b[38;5;124;43m'\u001b[39;49m\u001b[43m)\u001b[49m\u001b[43m)\u001b[49m\n\u001b[0;32m      9\u001b[0m dataBolmap\u001b[38;5;241m.\u001b[39mhead()\n",
      "File \u001b[1;32m~\\anaconda3\\lib\\site-packages\\geopandas\\io\\file.py:263\u001b[0m, in \u001b[0;36m_read_file\u001b[1;34m(filename, bbox, mask, rows, engine, **kwargs)\u001b[0m\n\u001b[0;32m    259\u001b[0m     \u001b[38;5;28;01mreturn\u001b[39;00m _read_file_fiona(\n\u001b[0;32m    260\u001b[0m         path_or_bytes, from_bytes, bbox\u001b[38;5;241m=\u001b[39mbbox, mask\u001b[38;5;241m=\u001b[39mmask, rows\u001b[38;5;241m=\u001b[39mrows, \u001b[38;5;241m*\u001b[39m\u001b[38;5;241m*\u001b[39mkwargs\n\u001b[0;32m    261\u001b[0m     )\n\u001b[0;32m    262\u001b[0m \u001b[38;5;28;01melif\u001b[39;00m engine \u001b[38;5;241m==\u001b[39m \u001b[38;5;124m\"\u001b[39m\u001b[38;5;124mpyogrio\u001b[39m\u001b[38;5;124m\"\u001b[39m:\n\u001b[1;32m--> 263\u001b[0m     \u001b[38;5;28;01mreturn\u001b[39;00m _read_file_pyogrio(\n\u001b[0;32m    264\u001b[0m         path_or_bytes, bbox\u001b[38;5;241m=\u001b[39mbbox, mask\u001b[38;5;241m=\u001b[39mmask, rows\u001b[38;5;241m=\u001b[39mrows, \u001b[38;5;241m*\u001b[39m\u001b[38;5;241m*\u001b[39mkwargs\n\u001b[0;32m    265\u001b[0m     )\n\u001b[0;32m    266\u001b[0m \u001b[38;5;28;01melse\u001b[39;00m:\n\u001b[0;32m    267\u001b[0m     \u001b[38;5;28;01mraise\u001b[39;00m \u001b[38;5;167;01mValueError\u001b[39;00m(\u001b[38;5;124mf\u001b[39m\u001b[38;5;124m\"\u001b[39m\u001b[38;5;124munknown engine \u001b[39m\u001b[38;5;124m'\u001b[39m\u001b[38;5;132;01m{\u001b[39;00mengine\u001b[38;5;132;01m}\u001b[39;00m\u001b[38;5;124m'\u001b[39m\u001b[38;5;124m\"\u001b[39m)\n",
      "File \u001b[1;32m~\\anaconda3\\lib\\site-packages\\geopandas\\io\\file.py:408\u001b[0m, in \u001b[0;36m_read_file_pyogrio\u001b[1;34m(path_or_bytes, bbox, mask, rows, **kwargs)\u001b[0m\n\u001b[0;32m    405\u001b[0m     kwargs[\u001b[38;5;124m\"\u001b[39m\u001b[38;5;124mread_geometry\u001b[39m\u001b[38;5;124m\"\u001b[39m] \u001b[38;5;241m=\u001b[39m \u001b[38;5;28;01mFalse\u001b[39;00m\n\u001b[0;32m    407\u001b[0m \u001b[38;5;66;03m# TODO: if bbox is not None, check its CRS vs the CRS of the file\u001b[39;00m\n\u001b[1;32m--> 408\u001b[0m \u001b[38;5;28;01mreturn\u001b[39;00m pyogrio\u001b[38;5;241m.\u001b[39mread_dataframe(path_or_bytes, bbox\u001b[38;5;241m=\u001b[39mbbox, \u001b[38;5;241m*\u001b[39m\u001b[38;5;241m*\u001b[39mkwargs)\n",
      "File \u001b[1;32m~\\anaconda3\\lib\\site-packages\\pyogrio\\geopandas.py:191\u001b[0m, in \u001b[0;36mread_dataframe\u001b[1;34m(path_or_buffer, layer, encoding, columns, read_geometry, force_2d, skip_features, max_features, where, bbox, fids, sql, sql_dialect, fid_as_index, use_arrow, **kwargs)\u001b[0m\n\u001b[0;32m    188\u001b[0m \u001b[38;5;28;01mif\u001b[39;00m geometry \u001b[38;5;129;01mis\u001b[39;00m \u001b[38;5;28;01mNone\u001b[39;00m \u001b[38;5;129;01mor\u001b[39;00m \u001b[38;5;129;01mnot\u001b[39;00m read_geometry:\n\u001b[0;32m    189\u001b[0m     \u001b[38;5;28;01mreturn\u001b[39;00m df\n\u001b[1;32m--> 191\u001b[0m geometry \u001b[38;5;241m=\u001b[39m \u001b[43mfrom_wkb\u001b[49m\u001b[43m(\u001b[49m\u001b[43mgeometry\u001b[49m\u001b[43m,\u001b[49m\u001b[43m \u001b[49m\u001b[43mcrs\u001b[49m\u001b[38;5;241;43m=\u001b[39;49m\u001b[43mmeta\u001b[49m\u001b[43m[\u001b[49m\u001b[38;5;124;43m\"\u001b[39;49m\u001b[38;5;124;43mcrs\u001b[39;49m\u001b[38;5;124;43m\"\u001b[39;49m\u001b[43m]\u001b[49m\u001b[43m)\u001b[49m\n\u001b[0;32m    193\u001b[0m \u001b[38;5;28;01mreturn\u001b[39;00m gp\u001b[38;5;241m.\u001b[39mGeoDataFrame(df, geometry\u001b[38;5;241m=\u001b[39mgeometry)\n",
      "File \u001b[1;32m~\\anaconda3\\lib\\site-packages\\geopandas\\array.py:180\u001b[0m, in \u001b[0;36mfrom_wkb\u001b[1;34m(data, crs)\u001b[0m\n\u001b[0;32m    166\u001b[0m \u001b[38;5;28;01mdef\u001b[39;00m \u001b[38;5;21mfrom_wkb\u001b[39m(data, crs\u001b[38;5;241m=\u001b[39m\u001b[38;5;28;01mNone\u001b[39;00m):\n\u001b[0;32m    167\u001b[0m \u001b[38;5;250m    \u001b[39m\u001b[38;5;124;03m\"\"\"\u001b[39;00m\n\u001b[0;32m    168\u001b[0m \u001b[38;5;124;03m    Convert a list or array of WKB objects to a GeometryArray.\u001b[39;00m\n\u001b[0;32m    169\u001b[0m \n\u001b[1;32m   (...)\u001b[0m\n\u001b[0;32m    178\u001b[0m \n\u001b[0;32m    179\u001b[0m \u001b[38;5;124;03m    \"\"\"\u001b[39;00m\n\u001b[1;32m--> 180\u001b[0m     \u001b[38;5;28;01mreturn\u001b[39;00m \u001b[43mGeometryArray\u001b[49m\u001b[43m(\u001b[49m\u001b[43mvectorized\u001b[49m\u001b[38;5;241;43m.\u001b[39;49m\u001b[43mfrom_wkb\u001b[49m\u001b[43m(\u001b[49m\u001b[43mdata\u001b[49m\u001b[43m)\u001b[49m\u001b[43m,\u001b[49m\u001b[43m \u001b[49m\u001b[43mcrs\u001b[49m\u001b[38;5;241;43m=\u001b[39;49m\u001b[43mcrs\u001b[49m\u001b[43m)\u001b[49m\n",
      "File \u001b[1;32m~\\anaconda3\\lib\\site-packages\\geopandas\\array.py:289\u001b[0m, in \u001b[0;36mGeometryArray.__init__\u001b[1;34m(self, data, crs)\u001b[0m\n\u001b[0;32m    286\u001b[0m \u001b[38;5;28mself\u001b[39m\u001b[38;5;241m.\u001b[39mdata \u001b[38;5;241m=\u001b[39m data\n\u001b[0;32m    288\u001b[0m \u001b[38;5;28mself\u001b[39m\u001b[38;5;241m.\u001b[39m_crs \u001b[38;5;241m=\u001b[39m \u001b[38;5;28;01mNone\u001b[39;00m\n\u001b[1;32m--> 289\u001b[0m \u001b[38;5;28mself\u001b[39m\u001b[38;5;241m.\u001b[39mcrs \u001b[38;5;241m=\u001b[39m crs\n\u001b[0;32m    290\u001b[0m \u001b[38;5;28mself\u001b[39m\u001b[38;5;241m.\u001b[39m_sindex \u001b[38;5;241m=\u001b[39m \u001b[38;5;28;01mNone\u001b[39;00m\n",
      "File \u001b[1;32m~\\anaconda3\\lib\\site-packages\\geopandas\\array.py:339\u001b[0m, in \u001b[0;36mGeometryArray.crs\u001b[1;34m(self, value)\u001b[0m\n\u001b[0;32m    336\u001b[0m \u001b[38;5;129m@crs\u001b[39m\u001b[38;5;241m.\u001b[39msetter\n\u001b[0;32m    337\u001b[0m \u001b[38;5;28;01mdef\u001b[39;00m \u001b[38;5;21mcrs\u001b[39m(\u001b[38;5;28mself\u001b[39m, value):\n\u001b[0;32m    338\u001b[0m \u001b[38;5;250m    \u001b[39m\u001b[38;5;124;03m\"\"\"Sets the value of the crs\"\"\"\u001b[39;00m\n\u001b[1;32m--> 339\u001b[0m     \u001b[38;5;28mself\u001b[39m\u001b[38;5;241m.\u001b[39m_crs \u001b[38;5;241m=\u001b[39m \u001b[38;5;28;01mNone\u001b[39;00m \u001b[38;5;28;01mif\u001b[39;00m \u001b[38;5;129;01mnot\u001b[39;00m value \u001b[38;5;28;01melse\u001b[39;00m \u001b[43mCRS\u001b[49m\u001b[38;5;241;43m.\u001b[39;49m\u001b[43mfrom_user_input\u001b[49m\u001b[43m(\u001b[49m\u001b[43mvalue\u001b[49m\u001b[43m)\u001b[49m\n",
      "File \u001b[1;32m~\\anaconda3\\lib\\site-packages\\pyproj\\crs\\crs.py:440\u001b[0m, in \u001b[0;36mCRS.from_user_input\u001b[1;34m(value, **kwargs)\u001b[0m\n\u001b[0;32m    438\u001b[0m \u001b[38;5;28;01mif\u001b[39;00m \u001b[38;5;28misinstance\u001b[39m(value, CRS):\n\u001b[0;32m    439\u001b[0m     \u001b[38;5;28;01mreturn\u001b[39;00m value\n\u001b[1;32m--> 440\u001b[0m \u001b[38;5;28;01mreturn\u001b[39;00m CRS(value, \u001b[38;5;241m*\u001b[39m\u001b[38;5;241m*\u001b[39mkwargs)\n",
      "File \u001b[1;32m~\\anaconda3\\lib\\site-packages\\pyproj\\crs\\crs.py:296\u001b[0m, in \u001b[0;36mCRS.__init__\u001b[1;34m(self, projparams, **kwargs)\u001b[0m\n\u001b[0;32m    293\u001b[0m     projkwargs \u001b[38;5;241m=\u001b[39m _prepare_from_dict(kwargs, allow_json\u001b[38;5;241m=\u001b[39m\u001b[38;5;28;01mFalse\u001b[39;00m)\n\u001b[0;32m    294\u001b[0m     projstring \u001b[38;5;241m=\u001b[39m _prepare_from_string(\u001b[38;5;124m\"\u001b[39m\u001b[38;5;124m \u001b[39m\u001b[38;5;124m\"\u001b[39m\u001b[38;5;241m.\u001b[39mjoin((projstring, projkwargs)))\n\u001b[1;32m--> 296\u001b[0m \u001b[38;5;28;43msuper\u001b[39;49m\u001b[43m(\u001b[49m\u001b[43m)\u001b[49m\u001b[38;5;241;43m.\u001b[39;49m\u001b[38;5;21;43m__init__\u001b[39;49m\u001b[43m(\u001b[49m\u001b[43mprojstring\u001b[49m\u001b[43m)\u001b[49m\n",
      "File \u001b[1;32m~\\anaconda3\\lib\\site-packages\\pyproj\\_crs.pyx:2338\u001b[0m, in \u001b[0;36mpyproj._crs._CRS.__init__\u001b[1;34m()\u001b[0m\n",
      "\u001b[1;31mCRSError\u001b[0m: Invalid projection: EPSG:4326: (Internal Proj Error: proj_create: SQLite error on SELECT name, type, coordinate_system_auth_name, coordinate_system_code, datum_auth_name, datum_code, area_of_use_auth_name, area_of_use_code, text_definition, deprecated FROM geodetic_crs WHERE auth_name = ? AND code = ?: no such column: area_of_use_auth_name)"
     ]
    }
   ],
   "source": [
    "# Mapa\n",
    "\n",
    "os.environ['USE_PYGEOS'] = '0'\n",
    "\n",
    "import geopandas as gpd\n",
    "\n",
    "dataBolmap=gpd.read_file(os.path.join('maps','Provincias.zip'))\n",
    "\n",
    "dataBolmap.head()"
   ]
  },
  {
   "cell_type": "code",
   "execution_count": null,
   "id": "e2e45ccd",
   "metadata": {},
   "outputs": [],
   "source": [
    "# Preprocessing\n",
    "capitalizeColumns=lambda x: x.str.upper().str.strip()\n",
    "dataBol[['DEPARTAMENTO','PROVINCIA']]=dataBol[['DEPARTAMENTO','PROVINCIA']].apply(capitalizeColumns)\n",
    "dataBolmap[['DEPARTAMEN','PROVINCIA']]=dataBolmap[['DEPARTAMEN','PROVINCIA']].apply(capitalizeColumns)"
   ]
  },
  {
   "cell_type": "code",
   "execution_count": null,
   "id": "749080b5",
   "metadata": {},
   "outputs": [],
   "source": [
    "import unidecode\n",
    "\n",
    "byePunctuation=lambda x: unidecode.unidecode(x)\n",
    "dataBol[['DEPARTAMENTO','PROVINCIA']]=dataBol[['DEPARTAMENTO','PROVINCIA']].applymap(byePunctuation)\n",
    "dataBolmap[['DEPARTAMEN','PROVINCIA']]=dataBolmap[['DEPARTAMEN','PROVINCIA']].applymap(byePunctuation)"
   ]
  },
  {
   "cell_type": "code",
   "execution_count": null,
   "id": "145b6dc3",
   "metadata": {},
   "outputs": [],
   "source": [
    "len(dataBol.PROVINCIA),len(dataBolmap.PROVINCIA)"
   ]
  },
  {
   "cell_type": "code",
   "execution_count": null,
   "id": "88d9193b",
   "metadata": {},
   "outputs": [],
   "source": [
    "dataBol.PROVINCIA.duplicated().sum(),dataBolmap.PROVINCIA.duplicated().sum()"
   ]
  },
  {
   "cell_type": "code",
   "execution_count": null,
   "id": "1ec3dade",
   "metadata": {},
   "outputs": [],
   "source": [
    "# concatenating\n",
    "\n",
    "dataBol['provDist']=[\"+\".join(pd) for pd in zip (dataBol.DEPARTAMENTO,dataBol.PROVINCIA)]\n",
    "dataBolmap['provDist']=[\"+\".join(pd) for pd in zip (dataBolmap.DEPARTAMEN,dataBolmap.PROVINCIA)]"
   ]
  },
  {
   "cell_type": "code",
   "execution_count": null,
   "id": "434bd912",
   "metadata": {},
   "outputs": [],
   "source": [
    "# the new column looks like this:\n",
    "\n",
    "dataBol['provDist'].head()"
   ]
  },
  {
   "cell_type": "code",
   "execution_count": null,
   "id": "0df91832",
   "metadata": {},
   "outputs": [],
   "source": [
    "# replacing dashes and multiple spaces by a simple space\n",
    "\n",
    "dataBol.provDist=dataBol.provDist.str.replace(\"\\-|\\_|\\s+\",\" \",regex=True)\n",
    "dataBolmap.provDist=dataBolmap.provDist.str.replace(\"\\-|\\_|\\s+\",\" \",regex=True)"
   ]
  },
  {
   "cell_type": "code",
   "execution_count": null,
   "id": "729e0e32",
   "metadata": {},
   "outputs": [],
   "source": [
    "dataBol"
   ]
  },
  {
   "cell_type": "code",
   "execution_count": null,
   "id": "02249aec",
   "metadata": {},
   "outputs": [],
   "source": [
    "dataBolmap"
   ]
  },
  {
   "cell_type": "code",
   "execution_count": null,
   "id": "2e078832",
   "metadata": {},
   "outputs": [],
   "source": [
    "# EJERCICIO: 1"
   ]
  },
  {
   "cell_type": "code",
   "execution_count": null,
   "id": "c1843106",
   "metadata": {},
   "outputs": [],
   "source": [
    "nomatch_df=set(dataBol.provDist)- set(dataBolmap.provDist)\n",
    "nomatch_gdf=set(dataBolmap.provDist)-set(dataBol.provDist) "
   ]
  },
  {
   "cell_type": "code",
   "execution_count": null,
   "id": "8c6a852a",
   "metadata": {},
   "outputs": [],
   "source": [
    "len(nomatch_df), len(nomatch_gdf)"
   ]
  },
  {
   "cell_type": "code",
   "execution_count": null,
   "id": "4b61e59f",
   "metadata": {},
   "outputs": [],
   "source": [
    "# pick the closest match from nomatch_gdf for a value in nomatch_df\n",
    "\n",
    "from thefuzz import process\n",
    "\n",
    "[(dis,process.extractOne(dis,nomatch_gdf)) for dis in sorted(nomatch_df)]"
   ]
  },
  {
   "cell_type": "code",
   "execution_count": null,
   "id": "45811787",
   "metadata": {},
   "outputs": [],
   "source": [
    "# is this OK?\n",
    "\n",
    "{dis:process.extractOne(dis,nomatch_gdf)[0] for dis in sorted(nomatch_df)}"
   ]
  },
  {
   "cell_type": "code",
   "execution_count": null,
   "id": "3d07de1a",
   "metadata": {},
   "outputs": [],
   "source": [
    "# then:\n",
    "\n",
    "changes_df={dis:process.extractOne(dis,nomatch_gdf)[0] for dis in sorted(nomatch_df)}"
   ]
  },
  {
   "cell_type": "code",
   "execution_count": null,
   "id": "fbe1c1cf",
   "metadata": {},
   "outputs": [],
   "source": [
    "# Now, make the replacements:\n",
    "\n",
    "dataBol.provDist.replace(changes_df,inplace=True)"
   ]
  },
  {
   "cell_type": "code",
   "execution_count": null,
   "id": "2859d954",
   "metadata": {},
   "outputs": [],
   "source": [
    "# Now the merge can happen:\n",
    "\n",
    "dataBolmap=dataBolmap.merge(dataBol, on='provDist')"
   ]
  },
  {
   "cell_type": "code",
   "execution_count": null,
   "id": "69f5e11f",
   "metadata": {},
   "outputs": [],
   "source": [
    "# check\n",
    "\n",
    "dataBolmap.info()"
   ]
  },
  {
   "cell_type": "code",
   "execution_count": null,
   "id": "eb53e188",
   "metadata": {},
   "outputs": [],
   "source": [
    "# We can get rid of some columns:\n",
    "\n",
    "bye=['id','c_ut','DEPARTAMENTO', 'PROVINCIA_y']\n",
    "dataBolmap.drop(columns=bye,inplace=True)\n",
    "\n",
    "# keeping\n",
    "dataBolmap.head()"
   ]
  },
  {
   "cell_type": "code",
   "execution_count": null,
   "id": "00aa98ae",
   "metadata": {},
   "outputs": [],
   "source": [
    "# Cambiamos los nombres para que sean más cómodos de usar\n",
    "dataBolmap.rename(columns={'Provincia_x': 'Provincias'}, inplace=True)\n",
    "dataBolmap=dataBolmap.rename(columns={'DEPARTAMEN': 'DEPARTAMENTO'})\n",
    "dataBolmap=dataBolmap.rename(columns={'PROVINCIA_x': 'PROVINCIA'})\n",
    "dataBolmap.head()"
   ]
  },
  {
   "cell_type": "code",
   "execution_count": null,
   "id": "d52fed70",
   "metadata": {},
   "outputs": [],
   "source": []
  },
  {
   "cell_type": "code",
   "execution_count": null,
   "id": "c584e2e4",
   "metadata": {},
   "outputs": [],
   "source": []
  },
  {
   "cell_type": "code",
   "execution_count": null,
   "id": "8367727c",
   "metadata": {},
   "outputs": [],
   "source": []
  }
 ],
 "metadata": {
  "kernelspec": {
   "display_name": "Python 3 (ipykernel)",
   "language": "python",
   "name": "python3"
  },
  "language_info": {
   "codemirror_mode": {
    "name": "ipython",
    "version": 3
   },
   "file_extension": ".py",
   "mimetype": "text/x-python",
   "name": "python",
   "nbconvert_exporter": "python",
   "pygments_lexer": "ipython3",
   "version": "3.9.13"
  }
 },
 "nbformat": 4,
 "nbformat_minor": 5
}
