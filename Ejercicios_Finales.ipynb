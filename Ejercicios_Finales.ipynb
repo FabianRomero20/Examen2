{
 "cells": [
  {
   "cell_type": "code",
   "execution_count": 2,
   "id": "321f2a06",
   "metadata": {},
   "outputs": [
    {
     "data": {
      "text/html": [
       "<div>\n",
       "<style scoped>\n",
       "    .dataframe tbody tr th:only-of-type {\n",
       "        vertical-align: middle;\n",
       "    }\n",
       "\n",
       "    .dataframe tbody tr th {\n",
       "        vertical-align: top;\n",
       "    }\n",
       "\n",
       "    .dataframe thead th {\n",
       "        text-align: right;\n",
       "    }\n",
       "</style>\n",
       "<table border=\"1\" class=\"dataframe\">\n",
       "  <thead>\n",
       "    <tr style=\"text-align: right;\">\n",
       "      <th></th>\n",
       "      <th>id</th>\n",
       "      <th>c_ut</th>\n",
       "      <th>DEPARTAMEN</th>\n",
       "      <th>PROVINCIA</th>\n",
       "      <th>geometry</th>\n",
       "    </tr>\n",
       "  </thead>\n",
       "  <tbody>\n",
       "    <tr>\n",
       "      <th>0</th>\n",
       "      <td>0</td>\n",
       "      <td>0313</td>\n",
       "      <td>Cochabamba</td>\n",
       "      <td>Mizque</td>\n",
       "      <td>POLYGON ((-65.61829 -17.67455, -65.59538 -17.6...</td>\n",
       "    </tr>\n",
       "    <tr>\n",
       "      <th>1</th>\n",
       "      <td>1</td>\n",
       "      <td>0701</td>\n",
       "      <td>Santa Cruz</td>\n",
       "      <td>Andrés Ibáñez</td>\n",
       "      <td>POLYGON ((-62.97381 -18.02444, -63.08615 -18.0...</td>\n",
       "    </tr>\n",
       "    <tr>\n",
       "      <th>2</th>\n",
       "      <td>2</td>\n",
       "      <td>0409</td>\n",
       "      <td>Oruro</td>\n",
       "      <td>Sabaya</td>\n",
       "      <td>POLYGON ((-68.47194 -19.35205, -68.47718 -19.3...</td>\n",
       "    </tr>\n",
       "    <tr>\n",
       "      <th>3</th>\n",
       "      <td>3</td>\n",
       "      <td>0501</td>\n",
       "      <td>Potosí</td>\n",
       "      <td>Tomás Frías</td>\n",
       "      <td>POLYGON ((-65.87315 -18.97139, -65.86752 -18.9...</td>\n",
       "    </tr>\n",
       "    <tr>\n",
       "      <th>4</th>\n",
       "      <td>4</td>\n",
       "      <td>0404</td>\n",
       "      <td>Oruro</td>\n",
       "      <td>Sajama</td>\n",
       "      <td>POLYGON ((-68.47914 -18.61758, -68.48010 -18.6...</td>\n",
       "    </tr>\n",
       "  </tbody>\n",
       "</table>\n",
       "</div>"
      ],
      "text/plain": [
       "   id  c_ut  DEPARTAMEN      PROVINCIA  \\\n",
       "0   0  0313  Cochabamba         Mizque   \n",
       "1   1  0701  Santa Cruz  Andrés Ibáñez   \n",
       "2   2  0409       Oruro         Sabaya   \n",
       "3   3  0501      Potosí    Tomás Frías   \n",
       "4   4  0404       Oruro         Sajama   \n",
       "\n",
       "                                            geometry  \n",
       "0  POLYGON ((-65.61829 -17.67455, -65.59538 -17.6...  \n",
       "1  POLYGON ((-62.97381 -18.02444, -63.08615 -18.0...  \n",
       "2  POLYGON ((-68.47194 -19.35205, -68.47718 -19.3...  \n",
       "3  POLYGON ((-65.87315 -18.97139, -65.86752 -18.9...  \n",
       "4  POLYGON ((-68.47914 -18.61758, -68.48010 -18.6...  "
      ]
     },
     "execution_count": 2,
     "metadata": {},
     "output_type": "execute_result"
    }
   ],
   "source": [
    "# data table\n",
    "import pandas as pd\n",
    "import os\n",
    "# map\n",
    "\n",
    "os.environ['USE_PYGEOS'] = '0'\n",
    "\n",
    "import geopandas as gpd\n",
    "\n",
    "\n",
    "datadismap=gpd.read_file(os.path.join('maps','Provincias.zip'))\n",
    "\n",
    "datadismap.head()"
   ]
  },
  {
   "cell_type": "code",
   "execution_count": null,
   "id": "6e80398a",
   "metadata": {},
   "outputs": [],
   "source": []
  },
  {
   "cell_type": "code",
   "execution_count": null,
   "id": "118a5c28",
   "metadata": {},
   "outputs": [],
   "source": []
  }
 ],
 "metadata": {
  "kernelspec": {
   "display_name": "Python 3 (ipykernel)",
   "language": "python",
   "name": "python3"
  },
  "language_info": {
   "codemirror_mode": {
    "name": "ipython",
    "version": 3
   },
   "file_extension": ".py",
   "mimetype": "text/x-python",
   "name": "python",
   "nbconvert_exporter": "python",
   "pygments_lexer": "ipython3",
   "version": "3.9.13"
  }
 },
 "nbformat": 4,
 "nbformat_minor": 5
}
